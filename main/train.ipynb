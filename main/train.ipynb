{
 "nbformat": 4,
 "nbformat_minor": 0,
 "metadata": {
  "colab": {
   "provenance": [],
   "gpuType": "T4"
  },
  "kernelspec": {
   "name": "python3",
   "language": "python",
   "display_name": "Python 3 (ipykernel)"
  },
  "language_info": {
   "name": "python"
  },
  "accelerator": "GPU"
 },
 "cells": [
  {
   "cell_type": "markdown",
   "source": [
    "<a href=\"https://colab.research.google.com/github/NikiforovG/diffusion-models-basics/blob/develop/main/train.ipynb\" target=\"_parent\"><img src=\"https://colab.research.google.com/assets/colab-badge.svg\" alt=\"Open In Colab\"/></a>"
   ],
   "metadata": {
    "collapsed": false
   }
  },
  {
   "cell_type": "code",
   "outputs": [],
   "source": [
    "COLAB = False"
   ],
   "metadata": {
    "id": "3HAwTzVTZlMM",
    "ExecuteTime": {
     "end_time": "2024-01-23T17:24:53.372751Z",
     "start_time": "2024-01-23T17:24:53.272372Z"
    }
   },
   "execution_count": 1
  },
  {
   "cell_type": "code",
   "source": [
    "import os\n",
    "\n",
    "if COLAB:\n",
    "    if os.getcwd() != '/content/diffusion-models-basics/main':\n",
    "        !git clone https://github.com/NikiforovG/diffusion-models-basics.git\n",
    "        !cd diffusion-models-basics && git checkout develop\n",
    "        os.chdir('/content/diffusion-models-basics/main')\n",
    "\n",
    "    from google.colab import drive\n",
    "\n",
    "    drive.mount('/content/drive')\n",
    "    folder = '/content/drive/MyDrive/Colab Notebooks/diffusion-models-basics/'\n",
    "else:\n",
    "    folder = './'"
   ],
   "metadata": {
    "id": "lGb0r8tX496D",
    "ExecuteTime": {
     "end_time": "2024-01-23T17:24:53.381099Z",
     "start_time": "2024-01-23T17:24:53.340042Z"
    }
   },
   "execution_count": 2,
   "outputs": []
  },
  {
   "cell_type": "code",
   "source": [
    "from time import time\n",
    "\n",
    "import torch\n",
    "from torch.utils.data import DataLoader\n",
    "from torchvision import transforms\n",
    "from tqdm import tqdm"
   ],
   "metadata": {
    "id": "P-vflZQR5Fj8",
    "ExecuteTime": {
     "end_time": "2024-01-23T17:34:31.535278Z",
     "start_time": "2024-01-23T17:34:31.495357Z"
    }
   },
   "execution_count": 18,
   "outputs": []
  },
  {
   "cell_type": "code",
   "source": [
    "from src.data import CustomDataset\n",
    "from src.ddpm import DDPM\n",
    "from src.model import ContextUnet"
   ],
   "metadata": {
    "id": "jnW3rs6j7uaP",
    "ExecuteTime": {
     "end_time": "2024-01-23T17:34:32.194016Z",
     "start_time": "2024-01-23T17:34:32.047333Z"
    }
   },
   "execution_count": 19,
   "outputs": []
  },
  {
   "cell_type": "code",
   "outputs": [],
   "source": [
    "device = torch.device(\"cuda:0\" if torch.cuda.is_available() else torch.device('cpu'))"
   ],
   "metadata": {
    "id": "j5b22eVvZlMe",
    "ExecuteTime": {
     "end_time": "2024-01-23T17:25:46.987304Z",
     "start_time": "2024-01-23T17:25:46.888776Z"
    }
   },
   "execution_count": 5
  },
  {
   "cell_type": "code",
   "source": [
    "# diffusion\n",
    "time_steps = 500\n",
    "beta1 = 1e-4\n",
    "beta2 = 0.02\n",
    "ddpm = DDPM(beta1, beta2, time_steps, device)"
   ],
   "metadata": {
    "id": "ATGTvfWX6ZDr",
    "ExecuteTime": {
     "end_time": "2024-01-23T17:25:47.057059Z",
     "start_time": "2024-01-23T17:25:46.938870Z"
    }
   },
   "execution_count": 6,
   "outputs": []
  },
  {
   "cell_type": "code",
   "source": [
    "# model\n",
    "n_feat = 64  # 64 hidden dimension feature\n",
    "n_cfeat = 5  # context vector is of size 5\n",
    "height = 16  # 16x16 image\n",
    "save_folder = os.path.join(folder, 'weights/')\n",
    "\n",
    "model = ContextUnet(in_channels=3, n_feat=n_feat, n_cfeat=n_cfeat, height=height).to(device)\n",
    "print(f'Models has {sum(p.numel() for p in model.parameters() if p.requires_grad)} params')"
   ],
   "metadata": {
    "colab": {
     "base_uri": "https://localhost:8080/"
    },
    "id": "gyoOnjYc6jeB",
    "outputId": "bf10db72-6f92-4862-c3ec-29884de87811",
    "ExecuteTime": {
     "end_time": "2024-01-23T17:25:47.208204Z",
     "start_time": "2024-01-23T17:25:46.993085Z"
    }
   },
   "execution_count": 7,
   "outputs": [
    {
     "name": "stdout",
     "output_type": "stream",
     "text": [
      "Models has 1444099 params\n"
     ]
    }
   ]
  },
  {
   "cell_type": "code",
   "outputs": [],
   "source": [
    "# training\n",
    "batch_size = 100\n",
    "n_epoch = 32 if COLAB else 1\n",
    "lrate = 1e-3"
   ],
   "metadata": {
    "id": "isXsf3MFZlMg",
    "ExecuteTime": {
     "end_time": "2024-01-23T17:25:47.309513Z",
     "start_time": "2024-01-23T17:25:47.101850Z"
    }
   },
   "execution_count": 8
  },
  {
   "cell_type": "code",
   "source": [
    "optim = torch.optim.Adam(model.parameters(), lr=lrate)\n",
    "# load dataset and construct optimizer\n",
    "transform = transforms.Compose([transforms.ToTensor(), transforms.Normalize(mean=(0.5,), std=(0.5,))])\n",
    "\n",
    "dataset = CustomDataset(\n",
    "    os.path.join(folder, 'data/sprites_1788_16x16.npy'),\n",
    "    os.path.join(folder, 'data/sprite_labels_nc_1788_16x16.npy'),\n",
    "    transform,\n",
    "    null_context=False,\n",
    ")\n",
    "dataloader = DataLoader(dataset, batch_size=batch_size, shuffle=True, num_workers=1)"
   ],
   "metadata": {
    "colab": {
     "base_uri": "https://localhost:8080/"
    },
    "id": "QtZKdnBV6ont",
    "outputId": "f6969758-f50e-406b-a528-87cf55f20c74",
    "ExecuteTime": {
     "end_time": "2024-01-23T17:25:47.536314Z",
     "start_time": "2024-01-23T17:25:47.121204Z"
    }
   },
   "execution_count": 9,
   "outputs": [
    {
     "name": "stdout",
     "output_type": "stream",
     "text": [
      "sprite shape: (89400, 16, 16, 3)\n",
      "labels shape: (89400, 5)\n"
     ]
    }
   ]
  },
  {
   "cell_type": "code",
   "source": [
    "# training without context code\n",
    "\n",
    "# set into train mode\n",
    "model.train()\n",
    "\n",
    "start_training_timer = time()\n",
    "for ep in range(n_epoch):\n",
    "    print(f'Epoch {ep + 1}')\n",
    "\n",
    "    # linearly decay learning rate\n",
    "    optim.param_groups[0]['lr'] = lrate * (1 - ep / n_epoch)\n",
    "\n",
    "    pbar = tqdm(dataloader, mininterval=2)\n",
    "    for x, _ in pbar:  # x: images\n",
    "        optim.zero_grad()\n",
    "        x = x.to(device)\n",
    "\n",
    "        # perturb data\n",
    "        noise = torch.randn_like(x)\n",
    "        t = torch.randint(1, ddpm.time_steps + 1, (x.shape[0],)).to(device)\n",
    "        x_pert = ddpm.perturb_input(x, t, noise)\n",
    "\n",
    "        # use network to recover noise\n",
    "        pred_noise = model(x_pert, t / ddpm.time_steps)\n",
    "\n",
    "        # loss is mean squared error between the predicted and true noise\n",
    "        loss = torch.nn.functional.mse_loss(pred_noise, noise)\n",
    "        loss.backward()\n",
    "\n",
    "        optim.step()\n",
    "        if not COLAB:\n",
    "            break\n",
    "\n",
    "    print(f'Epoch {ep + 1} done. Current training time is {round(time() - start_training_timer, 1)} sec')\n",
    "    # save model periodically\n",
    "    if ep % 4 == 0 or ep == int(n_epoch - 1):\n",
    "        if not os.path.exists(save_folder):\n",
    "            os.mkdir(save_folder)\n",
    "\n",
    "        timer = time()\n",
    "        torch.save(\n",
    "            {\n",
    "                'current_epoch': ep + 1,\n",
    "                'model_state_dict': model.state_dict(),\n",
    "                'optimizer_state_dict': optim.state_dict(),\n",
    "                'training_time': time() - start_training_timer,\n",
    "            },\n",
    "            weights_path := os.path.join(save_folder, f'model_{ep + 1}.pth'),\n",
    "        )\n",
    "        print(f'backup done in {round(time() - timer, 1)} sec')"
   ],
   "metadata": {
    "colab": {
     "base_uri": "https://localhost:8080/"
    },
    "id": "ssaWnaa66vyr",
    "outputId": "7b1b61c7-102f-4833-838a-05b1eaa69a13",
    "ExecuteTime": {
     "end_time": "2024-01-23T17:26:04.571210Z",
     "start_time": "2024-01-23T17:25:47.459277Z"
    }
   },
   "execution_count": 10,
   "outputs": [
    {
     "name": "stdout",
     "output_type": "stream",
     "text": [
      "Epoch 1\n"
     ]
    },
    {
     "name": "stderr",
     "output_type": "stream",
     "text": [
      "  0%|          | 0/894 [00:16<?, ?it/s]"
     ]
    },
    {
     "name": "stdout",
     "output_type": "stream",
     "text": [
      "Epoch 1 done. Current training time is 17.0 sec\n",
      "backup done in 0.1 sec\n"
     ]
    },
    {
     "name": "stderr",
     "output_type": "stream",
     "text": [
      "\n"
     ]
    }
   ]
  },
  {
   "cell_type": "markdown",
   "source": [
    "\n",
    "# Acknowledgments\n",
    "This code is based on [How Diffusion Models Work](coursera.org/learn/how-diffusion-models-work-project) course by DeepLearning.AI   \n",
    "Sprites by ElvGames, [FrootsnVeggies](https://zrghr.itch.io/froots-and-veggies-culinary-pixels) and  [kyrise](https://kyrise.itch.io/)   \n",
    "This code is modified from, https://github.com/cloneofsimo/minDiffusion   \n",
    "Diffusion model is based on [Denoising Diffusion Probabilistic Models](https://arxiv.org/abs/2006.11239) and [Denoising Diffusion Implicit Models](https://arxiv.org/abs/2010.02502)"
   ],
   "metadata": {
    "collapsed": false
   }
  },
  {
   "cell_type": "code",
   "outputs": [],
   "source": [],
   "metadata": {
    "collapsed": false
   }
  }
 ]
}
